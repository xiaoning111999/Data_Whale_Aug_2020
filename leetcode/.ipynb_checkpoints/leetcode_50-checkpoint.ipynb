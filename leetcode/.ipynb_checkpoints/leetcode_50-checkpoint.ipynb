{
 "cells": [
  {
   "cell_type": "markdown",
   "metadata": {},
   "source": [
    "## Leetcode 50: \n",
    "## Implement pow(x, n), which calculates x raised to the power n ($x^n$).\n",
    "\n",
    "* Example 1:\n",
    "\n",
    "Input: 2.00000, 10\n",
    "Output: 1024.00000\n",
    "\n",
    "* Example 2:\n",
    "\n",
    "Input: 2.10000, 3\n",
    "Output: 9.26100\n",
    "* Example 3:\n",
    "\n",
    "Input: 2.00000, -2\n",
    "Output: 0.25000\n",
    "Explanation: 2-2 = 1/22 = 1/4 = 0.25\n",
    "Note:\n",
    "\n",
    "-100.0 < x < 100.0\n",
    "n is a 32-bit signed integer, within the range [$−2^{31},2^{31}−1$]\n",
    "\n",
    "\n",
    "### References:\n",
    "力扣（LeetCode）: https://leetcode-cn.com/problems/powx-n\n"
   ]
  },
  {
   "cell_type": "markdown",
   "metadata": {},
   "source": [
    "### 方法一：\n",
    "最简单的方法是通过循环将 n 个 x 乘起来，依次求 $x^1, x^2, ..., x^{n-1}, x^{n}$, 时间复杂度为 O(n) 。\n",
    "\n",
    "jyd: https://leetcode-cn.com/problems/powx-n/solution/50-powx-n-kuai-su-mi-qing-xi-tu-jie-by-jyd/"
   ]
  },
  {
   "cell_type": "code",
   "execution_count": 2,
   "metadata": {},
   "outputs": [],
   "source": [
    "def pow1(x,n):\n",
    "    result=1\n",
    "    if n<0:\n",
    "        n=-n\n",
    "        for i in range(n):\n",
    "            result *= x\n",
    "        return 1/result\n",
    "    elif n==0:\n",
    "        return 1\n",
    "    else: \n",
    "        for i in range(n):\n",
    "            result *= x\n",
    "        return result"
   ]
  },
  {
   "cell_type": "code",
   "execution_count": 3,
   "metadata": {},
   "outputs": [
    {
     "name": "stdout",
     "output_type": "stream",
     "text": [
      "706 ns ± 36 ns per loop (mean ± std. dev. of 7 runs, 1000000 loops each)\n"
     ]
    }
   ],
   "source": [
    "%timeit pow1(2,10)"
   ]
  },
  {
   "cell_type": "code",
   "execution_count": 4,
   "metadata": {},
   "outputs": [
    {
     "data": {
      "text/plain": [
       "9.261000000000001"
      ]
     },
     "execution_count": 4,
     "metadata": {},
     "output_type": "execute_result"
    }
   ],
   "source": [
    "pow1(2.1,3)"
   ]
  },
  {
   "cell_type": "code",
   "execution_count": 5,
   "metadata": {},
   "outputs": [
    {
     "data": {
      "text/plain": [
       "0.25"
      ]
     },
     "execution_count": 5,
     "metadata": {},
     "output_type": "execute_result"
    }
   ],
   "source": [
    "pow1(2,-2)"
   ]
  },
  {
   "cell_type": "markdown",
   "metadata": {},
   "source": [
    "### 方法二：快速幂 + 递归\n",
    "\n",
    "「快速幂算法」的本质是分治算法。举个例子，如果我们要计算 $x^{64}$，我们可以按照：\n",
    "\n",
    "$x \\to x^2 \\to x^4 \\to x^8 \\to x^{16} \\to x^{32} \\to x^{64}$的顺序，从$x$开始，每次直接把上一次的结果进行平方，计算6次就可以得到 $x^{64}$的值，而不需要对$x$乘63次。\n",
    "\n",
    "\n",
    "再举一个例子，如果我们要计算 $x^{77}$，我们可以按照：\n",
    "\n",
    "$x \\to x^2 \\to x^4 \\to x^9 \\to x^{19} \\to x^{38} \\to x^{77}$\n",
    "\n",
    "的顺序，在$x \\to x^2 \\to x^4 \\to x^8 \\to x^{16} \\to x^{32} \\to x^{64}$这些步骤中，我们直接把上一次的结果进行平方，而在 $x^4 \\to x^9，x^9 \\to x^{19}，x^{38} \\to x^{77}$这些步骤中，我们把上一次的结果进行平方后，还要额外乘一个$x$。\n",
    "\n",
    "直接从左到右进行推导看上去很困难，因为在每一步中，我们不知道在将上一次的结果平方之后，还需不需要额外乘 x。但如果我们从右往左看，分治的思想就十分明显了：\n",
    "\n",
    "当我们要计算 $x^n$时，我们可以先递归地计算出 $y = x^{\\lfloor n/2 \\rfloor}，其中 \\lfloor a \\rfloor$ 表示对 $a$ 进行下取整；\n",
    "\n",
    "根据递归计算的结果，如果$n$为偶数，那么 $x^n = y^2$；如果$n$为奇数，那么$x^n = y^2*x$；递归的边界为$n = 0$，任意数的0次方均为1。\n",
    "\n",
    "由于每次递归都会使得指数减少一半，因此递归的层数为 $O(log n)$，算法可以在很快的时间内得到结果。\n",
    "\n",
    "LeetCode-Solution：https://leetcode-cn.com/problems/powx-n/solution/powx-n-by-leetcode-solution/"
   ]
  },
  {
   "cell_type": "code",
   "execution_count": 6,
   "metadata": {},
   "outputs": [],
   "source": [
    "def pow2(x: float, n: int) -> float:\n",
    "    def quickMul(n):\n",
    "        if n == 0:\n",
    "            return 1.0\n",
    "        y = quickMul(n // 2)\n",
    "        return y * y if n % 2 == 0 else y * y * x\n",
    "        \n",
    "    return quickMul(n) if n >= 0 else 1.0 / quickMul(-n)"
   ]
  },
  {
   "cell_type": "code",
   "execution_count": 7,
   "metadata": {},
   "outputs": [
    {
     "name": "stdout",
     "output_type": "stream",
     "text": [
      "1.09 µs ± 38.1 ns per loop (mean ± std. dev. of 7 runs, 1000000 loops each)\n"
     ]
    }
   ],
   "source": [
    "%timeit pow2(2,10)"
   ]
  },
  {
   "cell_type": "code",
   "execution_count": 8,
   "metadata": {},
   "outputs": [
    {
     "data": {
      "text/plain": [
       "9.261000000000001"
      ]
     },
     "execution_count": 8,
     "metadata": {},
     "output_type": "execute_result"
    }
   ],
   "source": [
    "pow2(2.1,3)"
   ]
  },
  {
   "cell_type": "code",
   "execution_count": 9,
   "metadata": {},
   "outputs": [
    {
     "data": {
      "text/plain": [
       "0.25"
      ]
     },
     "execution_count": 9,
     "metadata": {},
     "output_type": "execute_result"
    }
   ],
   "source": [
    "pow2(2,-2)"
   ]
  },
  {
   "cell_type": "markdown",
   "metadata": {},
   "source": [
    "### 方法三： 快速幂 + 迭代\n",
    "\n",
    "由于递归需要使用额外的栈空间，我们试着将递归转写为迭代。在方法二中，我们也提到过，从左到右进行推导是不容易的，因为我们不知道是否需要额外乘 $x$。但我们不妨找一找规律，看看哪些地方额外乘了$x$，并且它们对答案产生了什么影响。\n",
    "\n",
    "我们还是以$x^{77}$作为例子：\n",
    "\n",
    "$x \\to x^2 \\to x^4 \\to^+ x^9 \\to^+ x^{19} \\to x^{38} \\to^+ x^{77}$\n",
    "\n",
    "并且把需要额外乘 $x$ 的步骤打上了 + 标记。可以发现：\n",
    "\n",
    "$x^{38} \\to^+ x^{77}中额外乘的x在x^{77}中贡献了x$；\n",
    "\n",
    "$x^9 \\to^+ x^{19}中额外乘的x在之后被平方了2次，因此在x^{77}中贡献了 x^{2^2} = x^4$；\n",
    "\n",
    "$x^4 \\to^+ x^9 中额外乘的x在之后被平方了3次，因此在x^{77}中贡献了 x^{2^3} = x^8$；\n",
    "\n",
    "最初的$x$在之后被平方了 66 次，因此在 x^{77}中贡献了 x^{2^6} = x^{64}$。\n",
    "\n",
    "我们把这些贡献相乘，$x*x^4*x^8*x^{64}$ 好等于 $x^{77}$。而这些贡献的指数部分又是什么呢？它们都是2的幂次，这是因为每个额外乘的$x$在之后都会被平方若干次。而这些指数 1，4，8 和 64，恰好就对应了7的二进制表示 $(1001101)_2$中的每个 1！\n",
    "\n",
    "因此我们借助整数的二进制拆分，就可以得到迭代计算的方法，一般地，如果整数 $n$ 的二进制拆分为\n",
    "\n",
    "$n = 2^{i_0} + 2^{i_1} + \\cdots + 2^{i_k}$\n",
    "\n",
    "那么\n",
    "\n",
    "$x^n = x^{2^{i_0}} * x^{2^{i_1}} * \\cdots * x^{2^{i_k}}$\n",
    "\n",
    "这样以来，我们从 $x$ 开始不断地进行平方，得到 $x^2, x^4, x^8, x^{16}$,⋯，如果 n 的第 k 个（从右往左，从 0 开始计数）二进制位为 11，那么我们就将对应的贡献 $x^{2^k}$ \n",
    "\n",
    "LeetCode-Solution: https://leetcode-cn.com/problems/powx-n/solution/powx-n-by-leetcode-solution/"
   ]
  },
  {
   "cell_type": "code",
   "execution_count": 45,
   "metadata": {},
   "outputs": [],
   "source": [
    "def pow3(x: float, n: int) -> float:\n",
    "    if n<0:\n",
    "        x=1/x\n",
    "        n=-n\n",
    "    if n==0: # 终止条件\n",
    "        return 1\n",
    "\t# 分解子问题\n",
    "    if n%2==1:\n",
    "        return x*pow3(x,n-1)\n",
    "    x*=x\n",
    "    return pow(x,n/2)"
   ]
  },
  {
   "cell_type": "code",
   "execution_count": 46,
   "metadata": {},
   "outputs": [
    {
     "name": "stdout",
     "output_type": "stream",
     "text": [
      "545 ns ± 128 ns per loop (mean ± std. dev. of 7 runs, 1000000 loops each)\n"
     ]
    }
   ],
   "source": [
    "%timeit pow3(2,10)"
   ]
  },
  {
   "cell_type": "code",
   "execution_count": 47,
   "metadata": {},
   "outputs": [
    {
     "data": {
      "text/plain": [
       "9.261000000000001"
      ]
     },
     "execution_count": 47,
     "metadata": {},
     "output_type": "execute_result"
    }
   ],
   "source": [
    "pow3(2.1,3)"
   ]
  },
  {
   "cell_type": "code",
   "execution_count": 48,
   "metadata": {},
   "outputs": [
    {
     "data": {
      "text/plain": [
       "0.25"
      ]
     },
     "execution_count": 48,
     "metadata": {},
     "output_type": "execute_result"
    }
   ],
   "source": [
    "pow3(2,-2)"
   ]
  },
  {
   "cell_type": "code",
   "execution_count": null,
   "metadata": {},
   "outputs": [],
   "source": []
  }
 ],
 "metadata": {
  "kernelspec": {
   "display_name": "Python 3",
   "language": "python",
   "name": "python3"
  },
  "language_info": {
   "codemirror_mode": {
    "name": "ipython",
    "version": 3
   },
   "file_extension": ".py",
   "mimetype": "text/x-python",
   "name": "python",
   "nbconvert_exporter": "python",
   "pygments_lexer": "ipython3",
   "version": "3.7.3"
  }
 },
 "nbformat": 4,
 "nbformat_minor": 2
}
