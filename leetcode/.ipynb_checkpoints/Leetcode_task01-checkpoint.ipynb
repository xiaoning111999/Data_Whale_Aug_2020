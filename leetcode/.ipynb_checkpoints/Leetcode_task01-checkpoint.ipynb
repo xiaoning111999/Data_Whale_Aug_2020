{
 "cells": [
  {
   "cell_type": "markdown",
   "metadata": {},
   "source": [
    "# 1. 分治 Divide-conquer \n",
    "\n",
    "## 1.1. 分治法适用的情况\n",
    "\n",
    "* 1. 原问题的计算复杂度随着规模的增加而增加。\n",
    "* 2. 原问题能够被分解成更小的子问题。\n",
    "* 3. 子问题的结构和性质与原问题一样，并且相互独立，**子问题之间不包含公共的子子问题**。\n",
    "* 4. 原问题分解出的子问题的解可以合并为该问题的解。\n",
    "\n",
    "## 1.2. 分治算法的步骤\n",
    "\n",
    "* 1. 分：递归地将问题分解为小的子问题(性质相同且相互独立)；\n",
    "* 2. 治：将子问题逐个击破；\n",
    "* 3. 合：将已解决的子问题逐层合并，最终得出原问题的解；\n",
    "\n",
    "## 1.3 伪代码\n",
    "\n",
    "> def divide_conquer(problem, paraml, param2,...):\n",
    "    # 不断切分的终止条件\n",
    "    if problem is None:\n",
    "        print_result\n",
    "        return\n",
    "    # 准备数据\n",
    "    data=prepare_data(problem)\n",
    "    # 将大问题拆分为小问题\n",
    "    subproblems=split_problem(problem, data)\n",
    "    # 处理小问题，得到子结果\n",
    "    subresult1=self.divide_conquer(subproblems[0],p1,..…)\n",
    "    subresult2=self.divide_conquer(subproblems[1],p1,...)\n",
    "    subresult3=self.divide_conquer(subproblems[2],p1,.…)\n",
    "    # 对子结果进行合并 得到最终结果\n",
    "    result=process_result(subresult1, subresult2, subresult3,...)"
   ]
  },
  {
   "cell_type": "markdown",
   "metadata": {},
   "source": [
    "## 2. 分治算法的运用\n",
    "\n",
    "### 2.1. Leetcode 169. 多数元素 Majority Element\n",
    "\n",
    "给定一个大小为 n 的数组，找到其中的众数。众数是指在数组中出现次数大于 [n/2] 的元素。\n",
    "你可以假设数组是非空的，并且给定的数组总是存在众数。\n",
    "\n",
    "示例 1:\n",
    "\n",
    "Input: [3,2,3]\n",
    "\n",
    "Output: 3\n",
    "\n",
    "示例 2:\n",
    "\n",
    "Input: [2,2,1,1,1,2,2]\n",
    "\n",
    "Output: 2\n",
    "\n",
    "### 解题思路\n",
    "\n",
    "* 不断切分的终止条件: 直到所有的子问题都是长度为 1 \n",
    "* 准备数据 \n",
    "* 将大问题拆分为小问题: 递归地将原数组二分为左区间与右区间\n",
    "* 处理小问题，得到子结果: 直到最终的数组只剩下一个元素，将其返回\n",
    "    * 长度为 1 的子数组中唯一的数显然是众数，直接返回即可。\n",
    "    * 如果它们的众数相同，那么显然这一段区间的众数是它们相同的值。\n",
    "    * 如果他们的众数不同，比较两个众数在整个区间内出现的次数来决定该区间的众数\n",
    "* 对子结果进行合并 得到最终结果"
   ]
  },
  {
   "cell_type": "code",
   "execution_count": 22,
   "metadata": {},
   "outputs": [],
   "source": [
    "class Solution(object):\n",
    "    def majorityElement(self,nums):\n",
    "        if len(nums)==1:\n",
    "            return nums[0]\n",
    "        \n",
    "        left = self.majorityElement(nums[:len(nums)//2])\n",
    "        right = self.majorityElement(nums[len(nums)//2:])\n",
    "        \n",
    "        if left == right or nums.count(left)>nums.count(right):\n",
    "            return left\n",
    "        return right"
   ]
  },
  {
   "cell_type": "code",
   "execution_count": 23,
   "metadata": {},
   "outputs": [
    {
     "data": {
      "text/plain": [
       "3"
      ]
     },
     "execution_count": 23,
     "metadata": {},
     "output_type": "execute_result"
    }
   ],
   "source": [
    "nums = [3,2,3]\n",
    "result = Solution()\n",
    "result.majorityElement(nums)"
   ]
  },
  {
   "cell_type": "code",
   "execution_count": 26,
   "metadata": {},
   "outputs": [
    {
     "name": "stdout",
     "output_type": "stream",
     "text": [
      "0\n",
      "0\n",
      "[3] [2, 3]\n"
     ]
    }
   ],
   "source": [
    "nums = [3,2,3]\n",
    "left = nums[:len(nums)//2]\n",
    "right = nums[len(nums)//2:]\n",
    "print(nums.count(left))\n",
    "print(nums.count(right))\n",
    "print(left,right)"
   ]
  },
  {
   "cell_type": "code",
   "execution_count": 5,
   "metadata": {},
   "outputs": [],
   "source": [
    "class Solution(object):\n",
    "    def majorityElement(self, nums):\n",
    "        \"\"\"\n",
    "        :type nums: List[int]\n",
    "        :rtype: int\n",
    "        \"\"\"\n",
    "        if len(nums) == 1:\n",
    "            return nums[0]\n",
    "        \n",
    "        left = self.majorityElement(nums[:len(nums)//2])\n",
    "        right = self.majorityElement(nums[len(nums)//2:])\n",
    "        \n",
    "        if left == right or nums.count(left) > nums.count(right):\n",
    "            return left\n",
    "        return right"
   ]
  },
  {
   "cell_type": "code",
   "execution_count": 8,
   "metadata": {},
   "outputs": [
    {
     "data": {
      "text/plain": [
       "3"
      ]
     },
     "execution_count": 8,
     "metadata": {},
     "output_type": "execute_result"
    }
   ],
   "source": [
    "nums = [3,2,3]\n",
    "result = Solution()\n",
    "result.majorityElement(nums)"
   ]
  },
  {
   "cell_type": "code",
   "execution_count": 9,
   "metadata": {},
   "outputs": [
    {
     "data": {
      "text/plain": [
       "2"
      ]
     },
     "execution_count": 9,
     "metadata": {},
     "output_type": "execute_result"
    }
   ],
   "source": [
    "nums1=  [2,2,1,1,1,2,2]\n",
    "result.majorityElement(nums1)"
   ]
  },
  {
   "cell_type": "markdown",
   "metadata": {},
   "source": [
    "### 2.3. Leetcode 53 最大子序和\n",
    "\n",
    "给定一个整数数组 nums ，找到一个具有最大和的连续子数组（子数组最少包含一个元素），返回其最大和。\n",
    "\n",
    "示例:\n",
    "\n",
    "输入: [-2,1,-3,4,-1,2,1,-5,4],\n",
    "输出: 6\n",
    "解释: 连续子数组 [4,-1,2,1] 的和最大为6。\n",
    "\n",
    "### 解题思路\n",
    "\n",
    "* a. 确定切分的终止条件: 直到所有的子问题都是长度为 1 的数组，停止切分。\n",
    "* b. 准备数据，将大问题切分为小问题: 递归地将原数组二分为左区间与右区间，直到最终的数组只剩下一个元素，将其返回\n",
    "* c. 处理子问题得到子结果，并合并将数组切分为左右区间\n",
    "    * i. 对与左区间：从右到左计算左边的最大子序和\n",
    "    * ii. 对与右区间：从左到右计算右边的最大子序和\n",
    "    \n",
    "    由于左右区间计算累加和的方向不一致，因此，左右区间直接合并相加之后就是整个区间的和最终返回左区间的元素、右区间的元素、以及整个区间(相对子问题)和的最大值"
   ]
  },
  {
   "cell_type": "code",
   "execution_count": 12,
   "metadata": {},
   "outputs": [],
   "source": [
    "class Solution(object):\n",
    "    def maxSubArray(self, nums):\n",
    "        \"\"\"\n",
    "        :type nums: List[int]\n",
    "        :rtype: int\n",
    "        \"\"\"\n",
    "        if len(nums) == 1:\n",
    "            return nums[0]\n",
    "        \n",
    "        left = self.maxSubArray(nums[:len(nums)//2])\n",
    "        right = self.maxSubArray(nums[len(nums)//2:])\n",
    "        \n",
    "        leftRes = nums[len(nums)//2-1]\n",
    "        leftSum = 0\n",
    "        for num in nums[:len(nums)//2][::-1]:\n",
    "            leftSum += num\n",
    "            leftRes = max(leftRes, leftSum)\n",
    "        \n",
    "        rightRes = nums[len(nums)//2]\n",
    "        rightSum = 0\n",
    "        for num in nums[len(nums)//2:]:\n",
    "            rightSum += num\n",
    "            rightRes = max(rightRes, rightSum)\n",
    "        \n",
    "        return max(leftRes + rightRes, left, right)"
   ]
  },
  {
   "cell_type": "code",
   "execution_count": 13,
   "metadata": {},
   "outputs": [
    {
     "data": {
      "text/plain": [
       "6"
      ]
     },
     "execution_count": 13,
     "metadata": {},
     "output_type": "execute_result"
    }
   ],
   "source": [
    "result=Solution()\n",
    "nums = [-2,1,-3,4,-1,2,1,-5,4]\n",
    "result.maxSubArray(nums)"
   ]
  },
  {
   "cell_type": "code",
   "execution_count": null,
   "metadata": {},
   "outputs": [],
   "source": []
  }
 ],
 "metadata": {
  "kernelspec": {
   "display_name": "Python 3",
   "language": "python",
   "name": "python3"
  },
  "language_info": {
   "codemirror_mode": {
    "name": "ipython",
    "version": 3
   },
   "file_extension": ".py",
   "mimetype": "text/x-python",
   "name": "python",
   "nbconvert_exporter": "python",
   "pygments_lexer": "ipython3",
   "version": "3.7.3"
  }
 },
 "nbformat": 4,
 "nbformat_minor": 2
}
